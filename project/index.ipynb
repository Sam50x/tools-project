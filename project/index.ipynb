{
 "cells": [
  {
   "cell_type": "markdown",
   "id": "987359a6",
   "metadata": {},
   "source": [
    "##### **Importing Libraries:**"
   ]
  },
  {
   "cell_type": "code",
   "execution_count": 21,
   "id": "e921ec5f",
   "metadata": {},
   "outputs": [],
   "source": [
    "import requests\n",
    "from bs4 import BeautifulSoup\n",
    "import csv, json\n",
    "from urllib.parse import urljoin\n",
    "import pandas as pd"
   ]
  },
  {
   "cell_type": "markdown",
   "id": "2e62c35c",
   "metadata": {},
   "source": [
    "##### **Data Extraction:**"
   ]
  },
  {
   "cell_type": "code",
   "execution_count": 22,
   "id": "0443b9b5",
   "metadata": {},
   "outputs": [],
   "source": [
    "base_url = 'https://books.toscrape.com'\n",
    "page_url = 'https://books.toscrape.com/catalogue/page-{}.html'"
   ]
  },
  {
   "cell_type": "code",
   "execution_count": 23,
   "id": "843d47a7",
   "metadata": {},
   "outputs": [
    {
     "name": "stdout",
     "output_type": "stream",
     "text": [
      "Scraping page-1...\n",
      "Scraping page-2...\n",
      "Scraping page-3...\n",
      "Scraping page-4...\n",
      "Scraping page-5...\n",
      "Scraping page-6...\n",
      "Scraping page-7...\n",
      "Scraping page-8...\n",
      "Scraping page-9...\n",
      "Scraping page-10...\n",
      "Scraping page-11...\n",
      "Scraping page-12...\n",
      "Scraping page-13...\n",
      "Scraping page-14...\n",
      "Scraping page-15...\n",
      "Scraping page-16...\n",
      "Scraping page-17...\n",
      "Scraping page-18...\n",
      "Scraping page-19...\n",
      "Scraping page-20...\n",
      "Scraping page-21...\n",
      "Scraping page-22...\n",
      "Scraping page-23...\n",
      "Scraping page-24...\n",
      "Scraping page-25...\n",
      "Scraping page-26...\n",
      "Scraping page-27...\n",
      "Scraping page-28...\n",
      "Scraping page-29...\n",
      "Scraping page-30...\n",
      "Scraping page-31...\n",
      "Scraping page-32...\n",
      "Scraping page-33...\n",
      "Scraping page-34...\n",
      "Scraping page-35...\n",
      "Scraping page-36...\n",
      "Scraping page-37...\n",
      "Scraping page-38...\n",
      "Scraping page-39...\n",
      "Scraping page-40...\n",
      "Scraping page-41...\n",
      "Scraping page-42...\n",
      "Scraping page-43...\n",
      "Scraping page-44...\n",
      "Scraping page-45...\n",
      "Scraping page-46...\n",
      "Scraping page-47...\n",
      "Scraping page-48...\n",
      "Scraping page-49...\n",
      "Scraping page-50...\n"
     ]
    }
   ],
   "source": [
    "rating_map = {\n",
    "    'One': 1,\n",
    "    'Two': 2,\n",
    "    'Three': 3,\n",
    "    'Four': 4,\n",
    "    'Five': 5\n",
    "}\n",
    "\n",
    "booksData = []\n",
    "\n",
    "for page in range(1, 51):\n",
    "    \n",
    "    print(f'Scraping page-{page}...')\n",
    "    \n",
    "    if page == 1:\n",
    "        url = base_url\n",
    "    else:\n",
    "        url = page_url.format(page)\n",
    "        \n",
    "\n",
    "    res = requests.get(base_url)\n",
    "    soup = BeautifulSoup(res.text, 'html.parser')\n",
    "\n",
    "    for book in soup.select('article.product_pod'):\n",
    "        title = book.h3.a['title']\n",
    "        price = book.select_one('.price_color').text\n",
    "        availability = book.select_one('.availability').text.strip()\n",
    "\n",
    "        rating_class = book.select_one('p.star-rating')['class']\n",
    "        star_word = [cls for cls in rating_class if cls != 'star-rating'][0]\n",
    "        stars = rating_map.get(star_word, 0)\n",
    "\n",
    "        book_url = urljoin(url, book.h3.a['href'])\n",
    "\n",
    "        # detail_res = requests.get(book_url)\n",
    "        # detail_soup = BeautifulSoup(detail_res.text, 'html.parser')\n",
    "\n",
    "        # desc_tag = detail_soup.select_one('#product_description ~ p')\n",
    "        # description = desc_tag.text.strip() if desc_tag else None\n",
    "\n",
    "        # table = detail_soup.select_one('table.table.table-striped')\n",
    "        \n",
    "        # if table:\n",
    "        #     info = {row.th.text: row.td.text for row in table.select('tr')}\n",
    "        #     upc = info.get('UPC', '')\n",
    "        # else:\n",
    "        #     upc = None\n",
    "\n",
    "        # genre_tags = detail_soup.select('ul.breadcrumb li > a')\n",
    "        # if len(genre_tags) > 2:\n",
    "        #     genre_tag = genre_tags[2].text.strip()\n",
    "        # else:\n",
    "        #     genre_tag = None\n",
    "\n",
    "\n",
    "        booksData.append({\n",
    "            'title': title,\n",
    "            'price': price,\n",
    "            'availability': availability,\n",
    "            'stars': stars,\n",
    "            'url': book_url,\n",
    "            # 'description': description,\n",
    "            # 'upc': upc,\n",
    "            # 'genre': genre_tag,\n",
    "        })"
   ]
  },
  {
   "cell_type": "markdown",
   "id": "d2c0b535",
   "metadata": {},
   "source": [
    "##### **Saving data:**"
   ]
  },
  {
   "cell_type": "code",
   "execution_count": 24,
   "metadata": {},
   "outputs": [],
   "source": [
    "with open('books.csv', 'w', newline='', encoding='utf-8') as f:\n",
    "    writer = csv.DictWriter(f, fieldnames=booksData[0].keys())\n",
    "    writer.writeheader()\n",
    "    writer.writerows(booksData)"
   ]
  },
  {
   "cell_type": "code",
   "execution_count": 25,
   "id": "461fdf49",
   "metadata": {},
   "outputs": [],
   "source": [
    "with open('books.json', 'w', encoding='utf-8') as f:\n",
    "    json.dump(booksData, f, indent=4, ensure_ascii=False)"
   ]
  },
  {
   "cell_type": "markdown",
   "id": "2d21f989",
   "metadata": {},
   "source": [
    "##### **Data Cleaning & Processing:**"
   ]
  },
  {
   "cell_type": "code",
   "execution_count": 26,
   "metadata": {},
   "outputs": [
    {
     "data": {
      "text/html": [
       "<div>\n",
       "<style scoped>\n",
       "    .dataframe tbody tr th:only-of-type {\n",
       "        vertical-align: middle;\n",
       "    }\n",
       "\n",
       "    .dataframe tbody tr th {\n",
       "        vertical-align: top;\n",
       "    }\n",
       "\n",
       "    .dataframe thead th {\n",
       "        text-align: right;\n",
       "    }\n",
       "</style>\n",
       "<table border=\"1\" class=\"dataframe\">\n",
       "  <thead>\n",
       "    <tr style=\"text-align: right;\">\n",
       "      <th></th>\n",
       "      <th>title</th>\n",
       "      <th>price</th>\n",
       "      <th>availability</th>\n",
       "      <th>stars</th>\n",
       "      <th>url</th>\n",
       "    </tr>\n",
       "  </thead>\n",
       "  <tbody>\n",
       "    <tr>\n",
       "      <th>0</th>\n",
       "      <td>A Light in the Attic</td>\n",
       "      <td>Â£51.77</td>\n",
       "      <td>In stock</td>\n",
       "      <td>3</td>\n",
       "      <td>https://books.toscrape.com/catalogue/a-light-i...</td>\n",
       "    </tr>\n",
       "    <tr>\n",
       "      <th>1</th>\n",
       "      <td>Tipping the Velvet</td>\n",
       "      <td>Â£53.74</td>\n",
       "      <td>In stock</td>\n",
       "      <td>1</td>\n",
       "      <td>https://books.toscrape.com/catalogue/tipping-t...</td>\n",
       "    </tr>\n",
       "    <tr>\n",
       "      <th>2</th>\n",
       "      <td>Soumission</td>\n",
       "      <td>Â£50.10</td>\n",
       "      <td>In stock</td>\n",
       "      <td>1</td>\n",
       "      <td>https://books.toscrape.com/catalogue/soumissio...</td>\n",
       "    </tr>\n",
       "    <tr>\n",
       "      <th>3</th>\n",
       "      <td>Sharp Objects</td>\n",
       "      <td>Â£47.82</td>\n",
       "      <td>In stock</td>\n",
       "      <td>4</td>\n",
       "      <td>https://books.toscrape.com/catalogue/sharp-obj...</td>\n",
       "    </tr>\n",
       "    <tr>\n",
       "      <th>4</th>\n",
       "      <td>Sapiens: A Brief History of Humankind</td>\n",
       "      <td>Â£54.23</td>\n",
       "      <td>In stock</td>\n",
       "      <td>5</td>\n",
       "      <td>https://books.toscrape.com/catalogue/sapiens-a...</td>\n",
       "    </tr>\n",
       "  </tbody>\n",
       "</table>\n",
       "</div>"
      ],
      "text/plain": [
       "                                   title    price availability  stars  \\\n",
       "0                   A Light in the Attic  Â£51.77     In stock      3   \n",
       "1                     Tipping the Velvet  Â£53.74     In stock      1   \n",
       "2                             Soumission  Â£50.10     In stock      1   \n",
       "3                          Sharp Objects  Â£47.82     In stock      4   \n",
       "4  Sapiens: A Brief History of Humankind  Â£54.23     In stock      5   \n",
       "\n",
       "                                                 url  \n",
       "0  https://books.toscrape.com/catalogue/a-light-i...  \n",
       "1  https://books.toscrape.com/catalogue/tipping-t...  \n",
       "2  https://books.toscrape.com/catalogue/soumissio...  \n",
       "3  https://books.toscrape.com/catalogue/sharp-obj...  \n",
       "4  https://books.toscrape.com/catalogue/sapiens-a...  "
      ]
     },
     "execution_count": 26,
     "metadata": {},
     "output_type": "execute_result"
    }
   ],
   "source": [
    "df = pd.DataFrame(booksData)\n",
    "\n",
    "df.head()"
   ]
  },
  {
   "cell_type": "code",
   "execution_count": 27,
   "metadata": {},
   "outputs": [
    {
     "name": "stdout",
     "output_type": "stream",
     "text": [
      "<class 'pandas.core.frame.DataFrame'>\n",
      "RangeIndex: 1000 entries, 0 to 999\n",
      "Data columns (total 5 columns):\n",
      " #   Column        Non-Null Count  Dtype \n",
      "---  ------        --------------  ----- \n",
      " 0   title         1000 non-null   object\n",
      " 1   price         1000 non-null   object\n",
      " 2   availability  1000 non-null   object\n",
      " 3   stars         1000 non-null   int64 \n",
      " 4   url           1000 non-null   object\n",
      "dtypes: int64(1), object(4)\n",
      "memory usage: 39.2+ KB\n"
     ]
    }
   ],
   "source": [
    "df.info()"
   ]
  },
  {
   "cell_type": "code",
   "execution_count": null,
   "metadata": {},
   "outputs": [],
   "source": []
  },
  {
   "cell_type": "code",
   "execution_count": null,
   "id": "d87815e7",
   "metadata": {},
   "outputs": [],
   "source": []
  },
  {
   "cell_type": "code",
   "execution_count": null,
   "metadata": {},
   "outputs": [],
   "source": []
  },
  {
   "cell_type": "code",
   "execution_count": null,
   "id": "788ad364",
   "metadata": {},
   "outputs": [],
   "source": []
  },
  {
   "cell_type": "code",
   "execution_count": null,
   "id": "e06c1d75",
   "metadata": {},
   "outputs": [],
   "source": []
  },
  {
   "cell_type": "code",
   "execution_count": null,
   "id": "742afd36",
   "metadata": {},
   "outputs": [],
   "source": []
  },
  {
   "cell_type": "code",
   "execution_count": null,
   "id": "3041d666",
   "metadata": {},
   "outputs": [],
   "source": []
  },
  {
   "cell_type": "code",
   "execution_count": null,
   "id": "cba21ce3",
   "metadata": {},
   "outputs": [],
   "source": []
  },
  {
   "cell_type": "code",
   "execution_count": null,
   "metadata": {},
   "outputs": [],
   "source": []
  },
  {
   "cell_type": "code",
   "execution_count": null,
   "id": "c51870a0",
   "metadata": {},
   "outputs": [],
   "source": []
  },
  {
   "cell_type": "code",
   "execution_count": null,
   "metadata": {},
   "outputs": [],
   "source": []
  },
  {
   "cell_type": "code",
   "execution_count": null,
   "id": "610fa377",
   "metadata": {},
   "outputs": [],
   "source": []
  },
  {
   "cell_type": "code",
   "execution_count": null,
   "metadata": {},
   "outputs": [],
   "source": []
  }
 ],
 "metadata": {
  "kernelspec": {
   "display_name": "Python 3",
   "language": "python",
   "name": "python3"
  },
  "language_info": {
   "codemirror_mode": {
    "name": "ipython",
    "version": 3
   },
   "file_extension": ".py",
   "mimetype": "text/x-python",
   "name": "python",
   "nbconvert_exporter": "python",
   "pygments_lexer": "ipython3",
   "version": "3.13.1"
  }
 },
 "nbformat": 4,
 "nbformat_minor": 5
}
